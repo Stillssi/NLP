{
  "cells": [
    {
      "cell_type": "code",
      "execution_count": null,
      "metadata": {
        "colab": {
          "base_uri": "https://localhost:8080/"
        },
        "id": "tC1CLcPlXyWv",
        "outputId": "58c2c2b6-a817-49a9-b1ff-6e16e7ad138e"
      },
      "outputs": [],
      "source": [
        "!pip install konlpy"
      ]
    },
    {
      "cell_type": "code",
      "execution_count": null,
      "metadata": {
        "id": "3_dlOdnoX54X"
      },
      "outputs": [],
      "source": [
        "import konlpy"
      ]
    },
    {
      "cell_type": "code",
      "execution_count": null,
      "metadata": {
        "id": "jB1-_LqjYDvD"
      },
      "outputs": [],
      "source": [
        "from konlpy.tag import Okt\n",
        "okt = Okt()"
      ]
    },
    {
      "cell_type": "code",
      "execution_count": null,
      "metadata": {
        "colab": {
          "base_uri": "https://localhost:8080/"
        },
        "id": "58c8ThPsYKMh",
        "outputId": "abcda7ec-2e4b-4ee5-eea1-c69b60de8c99"
      },
      "outputs": [],
      "source": [
        "text = '한글 자연어 처리는 재밌다 이제부터 열심히 해야지ㅎㅎㅎ'\n",
        "print(okt.morphs(text))\n",
        "print(okt.morphs(text, stem=True)) #형태소 단위로 나눈 후 어간 추출"
      ]
    },
    {
      "cell_type": "code",
      "execution_count": null,
      "metadata": {
        "colab": {
          "base_uri": "https://localhost:8080/"
        },
        "id": "xJoTdLcNYVeN",
        "outputId": "0f3f5039-8a46-4f15-ed5a-ef7942068bde"
      },
      "outputs": [],
      "source": [
        "print(okt.nouns(text))\n",
        "print(okt.phrases(text))"
      ]
    },
    {
      "cell_type": "code",
      "execution_count": null,
      "metadata": {
        "colab": {
          "base_uri": "https://localhost:8080/"
        },
        "id": "JX3w0jibZ6YK",
        "outputId": "61671f80-15c3-4082-d7fa-70aa29b0f28b"
      },
      "outputs": [],
      "source": [
        "print(okt.pos(text))\n",
        "print(okt.pos(text, join=True))"
      ]
    },
    {
      "cell_type": "code",
      "execution_count": null,
      "metadata": {
        "id": "YKKjB3IzbCtF"
      },
      "outputs": [],
      "source": [
        "from konlpy.corpus import kolaw\n",
        "from konlpy.corpus import kobill"
      ]
    },
    {
      "cell_type": "code",
      "execution_count": null,
      "metadata": {
        "colab": {
          "base_uri": "https://localhost:8080/",
          "height": 36
        },
        "id": "9CeTANJwdkHB",
        "outputId": "8aac0175-7a29-482e-d3e5-f74c1827126e"
      },
      "outputs": [],
      "source": [
        "kolaw.open('constitution.txt').read()[:20]"
      ]
    },
    {
      "cell_type": "code",
      "execution_count": null,
      "metadata": {
        "colab": {
          "base_uri": "https://localhost:8080/",
          "height": 321
        },
        "id": "WUT11_BkdxA_",
        "outputId": "69fc5ed1-2cfd-435e-b2df-3f24dd672494"
      },
      "outputs": [],
      "source": [
        "kobill.open('1809890.txt').read()"
      ]
    },
    {
      "cell_type": "code",
      "execution_count": null,
      "metadata": {
        "id": "vZLO9AOed2i_"
      },
      "outputs": [],
      "source": []
    }
  ],
  "metadata": {
    "colab": {
      "provenance": []
    },
    "kernelspec": {
      "display_name": "Python 3.11.0 64-bit",
      "language": "python",
      "name": "python3"
    },
    "language_info": {
      "name": "python",
      "version": "3.11.0"
    },
    "vscode": {
      "interpreter": {
        "hash": "aee8b7b246df8f9039afb4144a1f6fd8d2ca17a180786b69acc140d282b71a49"
      }
    }
  },
  "nbformat": 4,
  "nbformat_minor": 0
}
